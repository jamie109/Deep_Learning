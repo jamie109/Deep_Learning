{
 "cells": [
  {
   "cell_type": "code",
   "execution_count": 1,
   "id": "b9e4c9b1",
   "metadata": {
    "pycharm": {
     "name": "#%%\n"
    }
   },
   "outputs": [],
   "source": [
    "import torch\n",
    "import torchvision\n",
    "import torchvision.transforms as transforms\n",
    "import matplotlib.pyplot as plt\n",
    "import numpy as np"
   ]
  },
  {
   "cell_type": "code",
   "execution_count": 2,
   "id": "3471fd83",
   "metadata": {
    "pycharm": {
     "name": "#%%\n"
    }
   },
   "outputs": [
    {
     "name": "stdout",
     "output_type": "stream",
     "text": [
      "Files already downloaded and verified\n",
      "Files already downloaded and verified\n"
     ]
    }
   ],
   "source": [
    "# 把它转换成 tensor，映射到0到1之间的浮点数 因为一开始读进来可能是numpy的\n",
    "# transforms.Normalize(mean, std) 表示将图像的每个通道（R、G、B）的像素值分别减去0.5并除以0.5\n",
    "transform = transforms.Compose(\n",
    "    [transforms.ToTensor(),\n",
    "     transforms.Normalize((0.5, 0.5, 0.5), (0.5, 0.5, 0.5))])\n",
    "# 每次测试或小批量训练的样本数为 4\n",
    "batch_size = 4\n",
    "\n",
    "# 训练集\n",
    "trainset = torchvision.datasets.CIFAR10(root='./data', train=True,\n",
    "                                        download=True, transform=transform)\n",
    "# shuffle=True表示在每个epoch训练之前对数据进行洗牌 num_workers=2表示使用2个子进程来加载数据\n",
    "trainloader = torch.utils.data.DataLoader(trainset, batch_size=batch_size,\n",
    "                                          shuffle=True, num_workers=2)\n",
    "# 测试集\n",
    "testset = torchvision.datasets.CIFAR10(root='./data', train=False,\n",
    "                                       download=True, transform=transform)\n",
    "testloader = torch.utils.data.DataLoader(testset, batch_size=batch_size,\n",
    "                                         shuffle=False, num_workers=2)\n",
    "\n",
    "classes = ('plane', 'car', 'bird', 'cat',\n",
    "           'deer', 'dog', 'frog', 'horse', 'ship', 'truck')"
   ]
  },
  {
   "cell_type": "markdown",
   "id": "bb18119c",
   "metadata": {
    "pycharm": {
     "name": "#%% md\n"
    }
   },
   "source": [
    "## resnet 网络搭建\n",
    "1. 主分支与shortcut分支的输出矩阵shape必须相同。\n",
    "2. 第一层卷积后relu，第二层卷积之后不relu，相加后再relu。\n",
    "3. 实线是shape相同的，虚线是表示不相同的（再来一次卷积使二者shape相同，可以相加）。\n",
    "4. 卷积核的数量确实对应着输出通道的个数。在卷积操作中，每个卷积核对应一个输出通道。（1×1卷积核用来实现降维）\n",
    "5. 调整步长可以对输出特征图的尺寸和感受野进行控制。步长为2，变成原图的一半。\n",
    "6. BN ：使每一批 batch （不是一张图片，是一批图片。对每个通道进行处理。）标准化。加速网络的训练并提升准确率"
   ]
  },
  {
   "cell_type": "code",
   "execution_count": 3,
   "id": "b216bb8d",
   "metadata": {
    "pycharm": {
     "name": "#%%\n"
    }
   },
   "outputs": [],
   "source": [
    "import torch.nn as nn\n",
    "import torch.nn.functional as F\n",
    "\n",
    "class Downsample(nn.Module):\n",
    "    def __init__(self, in_channel, out_channel):\n",
    "        super(Downsample, self).__init__()\n",
    "        self.conv = nn.Conv2d(in_channel, out_channel, kernel_size=1, stride=2, padding=0)\n",
    "        self.bn = nn.BatchNorm2d(out_channel)\n",
    "    def forward(self, x):\n",
    "        x = self.conv(x)\n",
    "        x = self.bn(x)\n",
    "        return x\n",
    "\n",
    "\n",
    "class BasicBlock(nn.Module):\n",
    "    \"\"\"\n",
    "    ResNet-18、ResNet-34\n",
    "    \"\"\"\n",
    "    # 删掉 不实现 resnet50 了\n",
    "    # # 记录每个残差块的卷积核个数是否有变化\n",
    "    expansion = 1\n",
    "\n",
    "    def __init__(self, in_channel, out_channel, stride=1, flag=False):\n",
    "        \"\"\"\n",
    "        :param flag: 下采样\n",
    "        \"\"\"\n",
    "        super(BasicBlock, self).__init__()\n",
    "        self.conv1 = nn.Conv2d(in_channels=in_channel, out_channels=out_channel,\n",
    "                               kernel_size=3, stride=1, padding=1, bias=False)\n",
    "        self.bn1 = nn.BatchNorm2d(out_channel)\n",
    "        self.relu = nn.ReLU()\n",
    "        # conv2的 in_channels 应该是 out_channel！！\n",
    "        self.conv2 = nn.Conv2d(in_channels=out_channel, out_channels=out_channel,\n",
    "                               kernel_size=3, stride=stride, padding=1, bias=False)\n",
    "        self.bn2 = nn.BatchNorm2d(out_channel)\n",
    "        # self.downsample = None\n",
    "        # 下采样方法\n",
    "        self.flag = flag\n",
    "        self.downsample = None\n",
    "        if self.flag is True:\n",
    "            self.downsample = Downsample(in_channel, out_channel)\n",
    "\n",
    "    # def my_downsample(self, x, d_in_channel, d_out_channel):\n",
    "    #     self.ds_conv = nn.Conv2d(d_in_channel, d_out_channel, kernel_size=(1, 1), stride=(2, 2), padding=0)\n",
    "    #     self.ds_batch_normal = nn.BatchNorm2d(d_out_channel)\n",
    "\n",
    "    def forward(self, x):\n",
    "        # shortcut分支\n",
    "        identity = x\n",
    "        if self.flag is True:\n",
    "            identity = self.downsample(x)\n",
    "        # res block\n",
    "        out = self.conv1(x)\n",
    "\n",
    "        out = self.bn1(out)\n",
    "        out = self.relu(out)\n",
    "\n",
    "        out = self.conv2(out)\n",
    "        out = self.bn2(out)\n",
    "\n",
    "        out += identity\n",
    "        out = self.relu(out)\n",
    "        return out\n",
    "\n",
    "# class BottleNeck(nn.Module):\n",
    "#     \"\"\"\n",
    "#\n",
    "#     \"\"\"\n",
    "class ResNet(nn.Module):\n",
    "    \"\"\"\n",
    "    resnet\n",
    "    \"\"\"\n",
    "    def __init__(self, block_num=1, num_classes=10):\n",
    "        super(ResNet, self).__init__()\n",
    "        # 输入特征矩阵的深度\n",
    "        # self.in_channel = 64\n",
    "\n",
    "        self.conv1 = nn.Conv2d(3, 64, kernel_size=7, stride=1,\n",
    "                               padding=3, bias=False)\n",
    "\n",
    "        self.bn1 = nn.BatchNorm2d(64)\n",
    "        self.relu1 = nn.ReLU(inplace=True)\n",
    "        self.maxpool = nn.MaxPool2d(kernel_size=3, stride=2, padding=1)\n",
    "        # resnet\n",
    "        self.layer1 = BasicBlock(64, 64, 1)\n",
    "        self.layer2 = BasicBlock(64, 128, 2, True)\n",
    "        self.layer3 = BasicBlock(128, 128, 1)\n",
    "        self.layer4 = BasicBlock(128, 256, 2, True)\n",
    "        # self.layer1 = self._make_layer(block, 64, blocks_num[0])\n",
    "        # self.layer2 = self._make_layer(block, 128, blocks_num[1], stride=2)\n",
    "        # self.layer3 = self._make_layer(block, 256, blocks_num[2], stride=2)\n",
    "        # self.layer4 = self._make_layer(block, 512, blocks_num[3], stride=2)\n",
    "        #\n",
    "        #self.fc1 = nn.Linear(, num_classes)\n",
    "        self.fc1 = nn.Linear(4096, 1000)\n",
    "        self.relu2 = nn.ReLU(inplace=True)\n",
    "        self.fc2 = nn.Linear(1000, 100)\n",
    "        self.relu3 = nn.ReLU(inplace=True)\n",
    "        self.fc3 = nn.Linear(100, num_classes)\n",
    "\n",
    "\n",
    "    # def _make_layer(self, block, channel, block_num, stride=1):\n",
    "    #     \"\"\"\n",
    "    #     :param block: ResNet-18＆ResNet-34 或 ResNet-50（未实现）\n",
    "    #     :param channel: 一个残差结构中 卷积层的卷积核个数\n",
    "    #     :param block_num: 一个 conv 结构中 残差结构的个数\n",
    "    #     \"\"\"\n",
    "    #     downsample = None\n",
    "    #     # ResNet-18＆ResNet-34 第一层不会执行\n",
    "    #     if stride != 1 or self.in_channel != channel * block.expansion:\n",
    "    #         # 生成下采样函数\n",
    "    #         downsample = nn.Sequential(\n",
    "    #             nn.Conv2d(self.in_channel, channel * block.expansion, kernel_size=1,stride=stride,bias=False),\n",
    "    #             nn.BatchNorm2d(channel * block.expansion)\n",
    "    #         )\n",
    "    #     layers = []\n",
    "    #     # 传入第一层 block\n",
    "    #     layers.append(block(self.in_channel, channel, downsample=downsample, stride=stride))\n",
    "    #\n",
    "    #     self.in_channel = channel * block.expansion\n",
    "    #     # 剩余\n",
    "    #     for _ in range(1, block_num):\n",
    "    #         # ResNet-18＆ResNet-34 in_channel 一直是 64\n",
    "    #         layers.append(block(self.in_channel, channel))\n",
    "    #\n",
    "    #     return nn.Sequential(*layers)\n",
    "\n",
    "    def forward(self, x):\n",
    "        #print(\"Input shape:\", x.shape)\n",
    "        x = self.conv1(x)\n",
    "        #print(\"After conv1 shape:\", x.shape)\n",
    "        x = self.bn1(x)\n",
    "        #print(\"After bn1 shape:\", x.shape)\n",
    "        x = self.relu1(x)\n",
    "        #print(\"After relu shape:\", x.shape)\n",
    "        x = self.maxpool(x)\n",
    "        #print(\"After maxpool shape:\", x.shape)\n",
    "\n",
    "        x = self.layer1(x)\n",
    "        #print(\"After layer1 shape:\", x.shape)\n",
    "        x = self.layer2(x)\n",
    "        #print(\"After layer2 shape:\", x.shape)\n",
    "        x = self.layer3(x)\n",
    "        #print(\"After layer3 shape:\", x.shape)\n",
    "        x = self.layer4(x)\n",
    "        #print(\"After layer4 shape:\", x.shape)\n",
    "        #x = self.fc1(x)\n",
    "        #print(\"After fc1 shape:\", x.shape)\n",
    "        x = torch.flatten(x, 1)\n",
    "        x = self.relu2(self.fc1(x))\n",
    "        x = self.relu3(self.fc2(x))\n",
    "        x = self.fc3(x)\n",
    "        #print(\"After flatten shape:\", x.shape)\n",
    "\n",
    "        return x\n"
   ]
  },
  {
   "cell_type": "code",
   "execution_count": 4,
   "id": "2b2939fa",
   "metadata": {
    "pycharm": {
     "name": "#%%\n"
    }
   },
   "outputs": [
    {
     "name": "stdout",
     "output_type": "stream",
     "text": [
      "ResNet(\n",
      "  (conv1): Conv2d(3, 64, kernel_size=(7, 7), stride=(1, 1), padding=(3, 3), bias=False)\n",
      "  (bn1): BatchNorm2d(64, eps=1e-05, momentum=0.1, affine=True, track_running_stats=True)\n",
      "  (relu1): ReLU(inplace=True)\n",
      "  (maxpool): MaxPool2d(kernel_size=3, stride=2, padding=1, dilation=1, ceil_mode=False)\n",
      "  (layer1): BasicBlock(\n",
      "    (conv1): Conv2d(64, 64, kernel_size=(3, 3), stride=(1, 1), padding=(1, 1), bias=False)\n",
      "    (bn1): BatchNorm2d(64, eps=1e-05, momentum=0.1, affine=True, track_running_stats=True)\n",
      "    (relu): ReLU()\n",
      "    (conv2): Conv2d(64, 64, kernel_size=(3, 3), stride=(1, 1), padding=(1, 1), bias=False)\n",
      "    (bn2): BatchNorm2d(64, eps=1e-05, momentum=0.1, affine=True, track_running_stats=True)\n",
      "  )\n",
      "  (layer2): BasicBlock(\n",
      "    (conv1): Conv2d(64, 128, kernel_size=(3, 3), stride=(1, 1), padding=(1, 1), bias=False)\n",
      "    (bn1): BatchNorm2d(128, eps=1e-05, momentum=0.1, affine=True, track_running_stats=True)\n",
      "    (relu): ReLU()\n",
      "    (conv2): Conv2d(128, 128, kernel_size=(3, 3), stride=(2, 2), padding=(1, 1), bias=False)\n",
      "    (bn2): BatchNorm2d(128, eps=1e-05, momentum=0.1, affine=True, track_running_stats=True)\n",
      "    (downsample): Downsample(\n",
      "      (conv): Conv2d(64, 128, kernel_size=(1, 1), stride=(2, 2))\n",
      "      (bn): BatchNorm2d(128, eps=1e-05, momentum=0.1, affine=True, track_running_stats=True)\n",
      "    )\n",
      "  )\n",
      "  (layer3): BasicBlock(\n",
      "    (conv1): Conv2d(128, 128, kernel_size=(3, 3), stride=(1, 1), padding=(1, 1), bias=False)\n",
      "    (bn1): BatchNorm2d(128, eps=1e-05, momentum=0.1, affine=True, track_running_stats=True)\n",
      "    (relu): ReLU()\n",
      "    (conv2): Conv2d(128, 128, kernel_size=(3, 3), stride=(1, 1), padding=(1, 1), bias=False)\n",
      "    (bn2): BatchNorm2d(128, eps=1e-05, momentum=0.1, affine=True, track_running_stats=True)\n",
      "  )\n",
      "  (layer4): BasicBlock(\n",
      "    (conv1): Conv2d(128, 256, kernel_size=(3, 3), stride=(1, 1), padding=(1, 1), bias=False)\n",
      "    (bn1): BatchNorm2d(256, eps=1e-05, momentum=0.1, affine=True, track_running_stats=True)\n",
      "    (relu): ReLU()\n",
      "    (conv2): Conv2d(256, 256, kernel_size=(3, 3), stride=(2, 2), padding=(1, 1), bias=False)\n",
      "    (bn2): BatchNorm2d(256, eps=1e-05, momentum=0.1, affine=True, track_running_stats=True)\n",
      "    (downsample): Downsample(\n",
      "      (conv): Conv2d(128, 256, kernel_size=(1, 1), stride=(2, 2))\n",
      "      (bn): BatchNorm2d(256, eps=1e-05, momentum=0.1, affine=True, track_running_stats=True)\n",
      "    )\n",
      "  )\n",
      "  (fc1): Linear(in_features=4096, out_features=1000, bias=True)\n",
      "  (relu2): ReLU(inplace=True)\n",
      "  (fc2): Linear(in_features=1000, out_features=100, bias=True)\n",
      "  (relu3): ReLU(inplace=True)\n",
      "  (fc3): Linear(in_features=100, out_features=10, bias=True)\n",
      ")\n"
     ]
    }
   ],
   "source": [
    "resnet = ResNet()\n",
    "print(resnet)"
   ]
  },
  {
   "cell_type": "code",
   "execution_count": 5,
   "id": "59560b84",
   "metadata": {
    "pycharm": {
     "name": "#%%\n"
    }
   },
   "outputs": [],
   "source": [
    "import torch.optim as optim\n",
    "# 定义损失函数，交叉熵损失\n",
    "criterion = nn.CrossEntropyLoss()\n",
    "optimizer = optim.SGD(resnet.parameters(), lr=0.001, momentum=0.9)"
   ]
  },
  {
   "cell_type": "markdown",
   "id": "b3e8116b",
   "metadata": {
    "pycharm": {
     "name": "#%% md\n"
    }
   },
   "source": [
    "## 训练"
   ]
  },
  {
   "cell_type": "code",
   "execution_count": 6,
   "id": "ca80dd9a",
   "metadata": {
    "pycharm": {
     "name": "#%%\n"
    }
   },
   "outputs": [],
   "source": [
    "# 单个 epoch 的训练过程\n",
    "def train(epoch):\n",
    "    # Set model to training mode\n",
    "    # 训练模式\n",
    "    resnet.train()\n",
    "    \n",
    "    running_loss = 0.0\n",
    "    correct = 0 # 正确预测的图片\n",
    "    total = 0 # 总数\n",
    "    cur_loss = 0\n",
    "    \n",
    "    # Loop over each batch from the training set\n",
    "    for i, data in enumerate(trainloader, 0):\n",
    "        # get the inputs; data is a list of [inputs, labels]\n",
    "        inputs, labels = data\n",
    "\n",
    "        # zero the parameter gradients\n",
    "        optimizer.zero_grad()\n",
    "\n",
    "        # forward + backward + optimize\n",
    "        outputs = resnet(inputs)\n",
    "        loss = criterion(outputs, labels)\n",
    "        # 对损失函数进行反向传播\n",
    "        loss.backward()\n",
    "        # Update weights\n",
    "        optimizer.step()\n",
    "        \n",
    "        # print statistics\n",
    "        running_loss += loss.item()\n",
    "        cur_loss += loss.item()\n",
    "#         # 计算每轮预测正确的图片及图片总数\n",
    "        _, predicted = torch.max(outputs.data, 1)\n",
    "        correct += (predicted == labels).sum().item()\n",
    "        total += labels.size(0)\n",
    "                \n",
    "        if i % 2000 == 1999:    # print every 2000 mini-batches\n",
    "            print(f'Train Epoch:{epoch }  [{i - 1999:5d}, {i + 1:5d}] loss: {running_loss / 2000:.3f} accuracy:{correct / total * 100}')      \n",
    "            running_loss = 0.0"
   ]
  },
  {
   "cell_type": "code",
   "execution_count": 9,
   "id": "b9fb8f0c",
   "metadata": {
    "pycharm": {
     "name": "#%%\n"
    }
   },
   "outputs": [],
   "source": [
    "# 用于在验证集上评估训练好的模型的性能\n",
    "def validate(loss_vector, accuracy_vector):\n",
    "    # 将模型设置为评估模式\n",
    "    resnet.eval()\n",
    "    val_loss, correct = 0, 0\n",
    "    # 循环\n",
    "    for data, target in testloader:\n",
    "#         data = data.to(device)\n",
    "#         target = target.to(device)\n",
    "        output = resnet(data)\n",
    "    \n",
    "        # 损失累加到 val_loss 变量中\n",
    "        val_loss += criterion(output, target).data.item()\n",
    "        # 预测\n",
    "        pred = output.data.max(1)[1] # get the index of the max log-probability\n",
    "        correct += pred.eq(target.data).cpu().sum()\n",
    "    # 在循环结束后，计算整个验证集上的平均损失，并将其附加到 loss_vector 列表中。\n",
    "    # 计算模型在整个验证集上的精度，并将其附加到 accuracy_vector 列表中。\n",
    "    # 函数最后会打印出平均损失和精度。\n",
    "    val_loss /= len(testloader)\n",
    "    loss_vector.append(val_loss)\n",
    "\n",
    "    accuracy = 100. * correct.to(torch.float32) / len(testloader.dataset)\n",
    "    accuracy_vector.append(accuracy)\n",
    "    \n",
    "    print('\\nValidation set: Average loss: {:.4f}, Accuracy: {}/{} ({:.0f}%)\\n'.format(\n",
    "        val_loss, correct, len(testloader.dataset), accuracy))"
   ]
  },
  {
   "cell_type": "code",
   "execution_count": 10,
   "id": "3494cf63",
   "metadata": {
    "pycharm": {
     "name": "#%%\n"
    }
   },
   "outputs": [
    {
     "name": "stdout",
     "output_type": "stream",
     "text": [
      "Train Epoch:1  [    0,  2000] loss: 1.560 accuracy:43.262499999999996\n",
      "Train Epoch:1  [ 2000,  4000] loss: 1.401 accuracy:46.29375\n",
      "Train Epoch:1  [ 4000,  6000] loss: 1.293 accuracy:48.583333333333336\n",
      "Train Epoch:1  [ 6000,  8000] loss: 1.200 accuracy:50.834375\n",
      "Train Epoch:1  [ 8000, 10000] loss: 1.108 accuracy:52.87\n",
      "Train Epoch:1  [10000, 12000] loss: 1.046 accuracy:54.541666666666664\n",
      "\n",
      "Validation set: Average loss: 0.9513, Accuracy: 6665/10000 (67%)\n",
      "\n",
      "Train Epoch:2  [    0,  2000] loss: 0.942 accuracy:66.5\n",
      "Train Epoch:2  [ 2000,  4000] loss: 0.901 accuracy:67.51875000000001\n",
      "Train Epoch:2  [ 4000,  6000] loss: 0.871 accuracy:68.22083333333333\n",
      "Train Epoch:2  [ 6000,  8000] loss: 0.834 accuracy:68.9875\n",
      "Train Epoch:2  [ 8000, 10000] loss: 0.848 accuracy:69.355\n",
      "Train Epoch:2  [10000, 12000] loss: 0.817 accuracy:69.73958333333333\n",
      "\n",
      "Validation set: Average loss: 0.8926, Accuracy: 6954/10000 (70%)\n",
      "\n",
      "Train Epoch:3  [    0,  2000] loss: 0.687 accuracy:75.8875\n",
      "Train Epoch:3  [ 2000,  4000] loss: 0.679 accuracy:76.26875\n",
      "Train Epoch:3  [ 4000,  6000] loss: 0.683 accuracy:76.28333333333333\n",
      "Train Epoch:3  [ 6000,  8000] loss: 0.665 accuracy:76.41562499999999\n",
      "Train Epoch:3  [ 8000, 10000] loss: 0.685 accuracy:76.3375\n",
      "Train Epoch:3  [10000, 12000] loss: 0.673 accuracy:76.51458333333333\n",
      "\n",
      "Validation set: Average loss: 0.7143, Accuracy: 7561/10000 (76%)\n",
      "\n",
      "Train Epoch:4  [    0,  2000] loss: 0.546 accuracy:81.16250000000001\n",
      "Train Epoch:4  [ 2000,  4000] loss: 0.541 accuracy:81.01875\n",
      "Train Epoch:4  [ 4000,  6000] loss: 0.551 accuracy:80.95\n",
      "Train Epoch:4  [ 6000,  8000] loss: 0.557 accuracy:80.86875\n",
      "Train Epoch:4  [ 8000, 10000] loss: 0.552 accuracy:80.8525\n",
      "Train Epoch:4  [10000, 12000] loss: 0.538 accuracy:81.01666666666667\n",
      "\n",
      "Validation set: Average loss: 0.6832, Accuracy: 7727/10000 (77%)\n",
      "\n",
      "Train Epoch:5  [    0,  2000] loss: 0.408 accuracy:85.575\n",
      "Train Epoch:5  [ 2000,  4000] loss: 0.419 accuracy:85.30624999999999\n",
      "Train Epoch:5  [ 4000,  6000] loss: 0.428 accuracy:85.16666666666667\n",
      "Train Epoch:5  [ 6000,  8000] loss: 0.434 accuracy:85.11875\n",
      "Train Epoch:5  [ 8000, 10000] loss: 0.438 accuracy:85.07000000000001\n",
      "Train Epoch:5  [10000, 12000] loss: 0.442 accuracy:85.06875000000001\n",
      "\n",
      "Validation set: Average loss: 0.6979, Accuracy: 7850/10000 (78%)\n",
      "\n",
      "Train Epoch:6  [    0,  2000] loss: 0.282 accuracy:90.10000000000001\n",
      "Train Epoch:6  [ 2000,  4000] loss: 0.298 accuracy:89.8625\n",
      "Train Epoch:6  [ 4000,  6000] loss: 0.318 accuracy:89.59583333333333\n",
      "Train Epoch:6  [ 6000,  8000] loss: 0.335 accuracy:89.246875\n",
      "Train Epoch:6  [ 8000, 10000] loss: 0.349 accuracy:88.875\n",
      "Train Epoch:6  [10000, 12000] loss: 0.360 accuracy:88.6625\n",
      "\n",
      "Validation set: Average loss: 0.6872, Accuracy: 7872/10000 (79%)\n",
      "\n",
      "Train Epoch:7  [    0,  2000] loss: 0.204 accuracy:93.2625\n",
      "Train Epoch:7  [ 2000,  4000] loss: 0.227 accuracy:92.60625\n",
      "Train Epoch:7  [ 4000,  6000] loss: 0.250 accuracy:92.05\n",
      "Train Epoch:7  [ 6000,  8000] loss: 0.273 accuracy:91.696875\n",
      "Train Epoch:7  [ 8000, 10000] loss: 0.263 accuracy:91.49000000000001\n",
      "Train Epoch:7  [10000, 12000] loss: 0.275 accuracy:91.22083333333333\n",
      "\n",
      "Validation set: Average loss: 0.7514, Accuracy: 7919/10000 (79%)\n",
      "\n",
      "Train Epoch:8  [    0,  2000] loss: 0.154 accuracy:94.875\n",
      "Train Epoch:8  [ 2000,  4000] loss: 0.174 accuracy:94.31875\n",
      "Train Epoch:8  [ 4000,  6000] loss: 0.172 accuracy:94.25\n",
      "Train Epoch:8  [ 6000,  8000] loss: 0.185 accuracy:94.0375\n",
      "Train Epoch:8  [ 8000, 10000] loss: 0.211 accuracy:93.72749999999999\n",
      "Train Epoch:8  [10000, 12000] loss: 0.222 accuracy:93.425\n",
      "\n",
      "Validation set: Average loss: 0.7757, Accuracy: 7863/10000 (79%)\n",
      "\n",
      "Train Epoch:9  [    0,  2000] loss: 0.106 accuracy:96.5\n",
      "Train Epoch:9  [ 2000,  4000] loss: 0.128 accuracy:95.98124999999999\n",
      "Train Epoch:9  [ 4000,  6000] loss: 0.129 accuracy:95.82916666666667\n",
      "Train Epoch:9  [ 6000,  8000] loss: 0.141 accuracy:95.603125\n",
      "Train Epoch:9  [ 8000, 10000] loss: 0.166 accuracy:95.3475\n",
      "Train Epoch:9  [10000, 12000] loss: 0.165 accuracy:95.15\n",
      "\n",
      "Validation set: Average loss: 0.8400, Accuracy: 7874/10000 (79%)\n",
      "\n"
     ]
    },
    {
     "ename": "KeyboardInterrupt",
     "evalue": "",
     "output_type": "error",
     "traceback": [
      "\u001B[1;31m---------------------------------------------------------------------------\u001B[0m",
      "\u001B[1;31mKeyboardInterrupt\u001B[0m                         Traceback (most recent call last)",
      "Cell \u001B[1;32mIn[10], line 5\u001B[0m\n\u001B[0;32m      3\u001B[0m lossv, accv \u001B[38;5;241m=\u001B[39m [], []\n\u001B[0;32m      4\u001B[0m \u001B[38;5;28;01mfor\u001B[39;00m epoch \u001B[38;5;129;01min\u001B[39;00m \u001B[38;5;28mrange\u001B[39m(\u001B[38;5;241m1\u001B[39m, epochs \u001B[38;5;241m+\u001B[39m \u001B[38;5;241m1\u001B[39m):\n\u001B[1;32m----> 5\u001B[0m     \u001B[43mtrain\u001B[49m\u001B[43m(\u001B[49m\u001B[43mepoch\u001B[49m\u001B[43m)\u001B[49m\n\u001B[0;32m      6\u001B[0m     validate(lossv, accv)\n",
      "Cell \u001B[1;32mIn[6], line 21\u001B[0m, in \u001B[0;36mtrain\u001B[1;34m(epoch)\u001B[0m\n\u001B[0;32m     18\u001B[0m optimizer\u001B[38;5;241m.\u001B[39mzero_grad()\n\u001B[0;32m     20\u001B[0m \u001B[38;5;66;03m# forward + backward + optimize\u001B[39;00m\n\u001B[1;32m---> 21\u001B[0m outputs \u001B[38;5;241m=\u001B[39m \u001B[43mresnet\u001B[49m\u001B[43m(\u001B[49m\u001B[43minputs\u001B[49m\u001B[43m)\u001B[49m\n\u001B[0;32m     22\u001B[0m loss \u001B[38;5;241m=\u001B[39m criterion(outputs, labels)\n\u001B[0;32m     23\u001B[0m \u001B[38;5;66;03m# 对损失函数进行反向传播\u001B[39;00m\n",
      "File \u001B[1;32mE:\\anaconda3\\envs\\DL\\lib\\site-packages\\torch\\nn\\modules\\module.py:1194\u001B[0m, in \u001B[0;36mModule._call_impl\u001B[1;34m(self, *input, **kwargs)\u001B[0m\n\u001B[0;32m   1190\u001B[0m \u001B[38;5;66;03m# If we don't have any hooks, we want to skip the rest of the logic in\u001B[39;00m\n\u001B[0;32m   1191\u001B[0m \u001B[38;5;66;03m# this function, and just call forward.\u001B[39;00m\n\u001B[0;32m   1192\u001B[0m \u001B[38;5;28;01mif\u001B[39;00m \u001B[38;5;129;01mnot\u001B[39;00m (\u001B[38;5;28mself\u001B[39m\u001B[38;5;241m.\u001B[39m_backward_hooks \u001B[38;5;129;01mor\u001B[39;00m \u001B[38;5;28mself\u001B[39m\u001B[38;5;241m.\u001B[39m_forward_hooks \u001B[38;5;129;01mor\u001B[39;00m \u001B[38;5;28mself\u001B[39m\u001B[38;5;241m.\u001B[39m_forward_pre_hooks \u001B[38;5;129;01mor\u001B[39;00m _global_backward_hooks\n\u001B[0;32m   1193\u001B[0m         \u001B[38;5;129;01mor\u001B[39;00m _global_forward_hooks \u001B[38;5;129;01mor\u001B[39;00m _global_forward_pre_hooks):\n\u001B[1;32m-> 1194\u001B[0m     \u001B[38;5;28;01mreturn\u001B[39;00m \u001B[43mforward_call\u001B[49m\u001B[43m(\u001B[49m\u001B[38;5;241;43m*\u001B[39;49m\u001B[38;5;28;43minput\u001B[39;49m\u001B[43m,\u001B[49m\u001B[43m \u001B[49m\u001B[38;5;241;43m*\u001B[39;49m\u001B[38;5;241;43m*\u001B[39;49m\u001B[43mkwargs\u001B[49m\u001B[43m)\u001B[49m\n\u001B[0;32m   1195\u001B[0m \u001B[38;5;66;03m# Do not call functions when jit is used\u001B[39;00m\n\u001B[0;32m   1196\u001B[0m full_backward_hooks, non_full_backward_hooks \u001B[38;5;241m=\u001B[39m [], []\n",
      "Cell \u001B[1;32mIn[3], line 151\u001B[0m, in \u001B[0;36mResNet.forward\u001B[1;34m(self, x)\u001B[0m\n\u001B[0;32m    147\u001B[0m \u001B[38;5;66;03m#print(\"After layer4 shape:\", x.shape)\u001B[39;00m\n\u001B[0;32m    148\u001B[0m \u001B[38;5;66;03m#x = self.fc1(x)\u001B[39;00m\n\u001B[0;32m    149\u001B[0m \u001B[38;5;66;03m#print(\"After fc1 shape:\", x.shape)\u001B[39;00m\n\u001B[0;32m    150\u001B[0m x \u001B[38;5;241m=\u001B[39m torch\u001B[38;5;241m.\u001B[39mflatten(x, \u001B[38;5;241m1\u001B[39m)\n\u001B[1;32m--> 151\u001B[0m x \u001B[38;5;241m=\u001B[39m \u001B[38;5;28;43mself\u001B[39;49m\u001B[38;5;241;43m.\u001B[39;49m\u001B[43mrelu2\u001B[49m\u001B[43m(\u001B[49m\u001B[38;5;28;43mself\u001B[39;49m\u001B[38;5;241;43m.\u001B[39;49m\u001B[43mfc1\u001B[49m\u001B[43m(\u001B[49m\u001B[43mx\u001B[49m\u001B[43m)\u001B[49m\u001B[43m)\u001B[49m\n\u001B[0;32m    152\u001B[0m x \u001B[38;5;241m=\u001B[39m \u001B[38;5;28mself\u001B[39m\u001B[38;5;241m.\u001B[39mrelu3(\u001B[38;5;28mself\u001B[39m\u001B[38;5;241m.\u001B[39mfc2(x))\n\u001B[0;32m    153\u001B[0m x \u001B[38;5;241m=\u001B[39m \u001B[38;5;28mself\u001B[39m\u001B[38;5;241m.\u001B[39mfc3(x)\n",
      "File \u001B[1;32mE:\\anaconda3\\envs\\DL\\lib\\site-packages\\torch\\nn\\modules\\module.py:1194\u001B[0m, in \u001B[0;36mModule._call_impl\u001B[1;34m(self, *input, **kwargs)\u001B[0m\n\u001B[0;32m   1190\u001B[0m \u001B[38;5;66;03m# If we don't have any hooks, we want to skip the rest of the logic in\u001B[39;00m\n\u001B[0;32m   1191\u001B[0m \u001B[38;5;66;03m# this function, and just call forward.\u001B[39;00m\n\u001B[0;32m   1192\u001B[0m \u001B[38;5;28;01mif\u001B[39;00m \u001B[38;5;129;01mnot\u001B[39;00m (\u001B[38;5;28mself\u001B[39m\u001B[38;5;241m.\u001B[39m_backward_hooks \u001B[38;5;129;01mor\u001B[39;00m \u001B[38;5;28mself\u001B[39m\u001B[38;5;241m.\u001B[39m_forward_hooks \u001B[38;5;129;01mor\u001B[39;00m \u001B[38;5;28mself\u001B[39m\u001B[38;5;241m.\u001B[39m_forward_pre_hooks \u001B[38;5;129;01mor\u001B[39;00m _global_backward_hooks\n\u001B[0;32m   1193\u001B[0m         \u001B[38;5;129;01mor\u001B[39;00m _global_forward_hooks \u001B[38;5;129;01mor\u001B[39;00m _global_forward_pre_hooks):\n\u001B[1;32m-> 1194\u001B[0m     \u001B[38;5;28;01mreturn\u001B[39;00m \u001B[43mforward_call\u001B[49m\u001B[43m(\u001B[49m\u001B[38;5;241;43m*\u001B[39;49m\u001B[38;5;28;43minput\u001B[39;49m\u001B[43m,\u001B[49m\u001B[43m \u001B[49m\u001B[38;5;241;43m*\u001B[39;49m\u001B[38;5;241;43m*\u001B[39;49m\u001B[43mkwargs\u001B[49m\u001B[43m)\u001B[49m\n\u001B[0;32m   1195\u001B[0m \u001B[38;5;66;03m# Do not call functions when jit is used\u001B[39;00m\n\u001B[0;32m   1196\u001B[0m full_backward_hooks, non_full_backward_hooks \u001B[38;5;241m=\u001B[39m [], []\n",
      "File \u001B[1;32mE:\\anaconda3\\envs\\DL\\lib\\site-packages\\torch\\nn\\modules\\activation.py:102\u001B[0m, in \u001B[0;36mReLU.forward\u001B[1;34m(self, input)\u001B[0m\n\u001B[0;32m    101\u001B[0m \u001B[38;5;28;01mdef\u001B[39;00m \u001B[38;5;21mforward\u001B[39m(\u001B[38;5;28mself\u001B[39m, \u001B[38;5;28minput\u001B[39m: Tensor) \u001B[38;5;241m-\u001B[39m\u001B[38;5;241m>\u001B[39m Tensor:\n\u001B[1;32m--> 102\u001B[0m     \u001B[38;5;28;01mreturn\u001B[39;00m \u001B[43mF\u001B[49m\u001B[38;5;241;43m.\u001B[39;49m\u001B[43mrelu\u001B[49m\u001B[43m(\u001B[49m\u001B[38;5;28;43minput\u001B[39;49m\u001B[43m,\u001B[49m\u001B[43m \u001B[49m\u001B[43minplace\u001B[49m\u001B[38;5;241;43m=\u001B[39;49m\u001B[38;5;28;43mself\u001B[39;49m\u001B[38;5;241;43m.\u001B[39;49m\u001B[43minplace\u001B[49m\u001B[43m)\u001B[49m\n",
      "File \u001B[1;32mE:\\anaconda3\\envs\\DL\\lib\\site-packages\\torch\\nn\\functional.py:1455\u001B[0m, in \u001B[0;36mrelu\u001B[1;34m(input, inplace)\u001B[0m\n\u001B[0;32m   1453\u001B[0m     \u001B[38;5;28;01mreturn\u001B[39;00m handle_torch_function(relu, (\u001B[38;5;28minput\u001B[39m,), \u001B[38;5;28minput\u001B[39m, inplace\u001B[38;5;241m=\u001B[39minplace)\n\u001B[0;32m   1454\u001B[0m \u001B[38;5;28;01mif\u001B[39;00m inplace:\n\u001B[1;32m-> 1455\u001B[0m     result \u001B[38;5;241m=\u001B[39m \u001B[43mtorch\u001B[49m\u001B[38;5;241;43m.\u001B[39;49m\u001B[43mrelu_\u001B[49m\u001B[43m(\u001B[49m\u001B[38;5;28;43minput\u001B[39;49m\u001B[43m)\u001B[49m\n\u001B[0;32m   1456\u001B[0m \u001B[38;5;28;01melse\u001B[39;00m:\n\u001B[0;32m   1457\u001B[0m     result \u001B[38;5;241m=\u001B[39m torch\u001B[38;5;241m.\u001B[39mrelu(\u001B[38;5;28minput\u001B[39m)\n",
      "\u001B[1;31mKeyboardInterrupt\u001B[0m: "
     ]
    }
   ],
   "source": [
    "epochs = 10\n",
    "\n",
    "lossv, accv = [], []\n",
    "for epoch in range(1, epochs + 1):\n",
    "    train(epoch)\n",
    "    validate(lossv, accv)"
   ]
  },
  {
   "cell_type": "code",
   "execution_count": 14,
   "id": "fd71f666",
   "metadata": {
    "pycharm": {
     "name": "#%%\n"
    }
   },
   "outputs": [
    {
     "data": {
      "text/plain": [
       "0.772"
      ]
     },
     "execution_count": 14,
     "metadata": {},
     "output_type": "execute_result"
    },
    {
     "data": {
      "text/plain": [
       "80"
      ]
     },
     "execution_count": 14,
     "metadata": {},
     "output_type": "execute_result"
    },
    {
     "data": {
      "text/plain": [
       "<Figure size 500x300 with 0 Axes>"
      ]
     },
     "execution_count": 14,
     "metadata": {},
     "output_type": "execute_result"
    },
    {
     "data": {
      "text/plain": [
       "[<matplotlib.lines.Line2D at 0x19df8d1a3a0>]"
      ]
     },
     "execution_count": 14,
     "metadata": {},
     "output_type": "execute_result"
    },
    {
     "data": {
      "text/plain": [
       "Text(0.5, 1.0, 'validation loss')"
      ]
     },
     "execution_count": 14,
     "metadata": {},
     "output_type": "execute_result"
    },
    {
     "data": {
      "text/plain": [
       "<Figure size 500x300 with 0 Axes>"
      ]
     },
     "execution_count": 14,
     "metadata": {},
     "output_type": "execute_result"
    },
    {
     "data": {
      "text/plain": [
       "[<matplotlib.lines.Line2D at 0x19df8ba83d0>]"
      ]
     },
     "execution_count": 14,
     "metadata": {},
     "output_type": "execute_result"
    },
    {
     "data": {
      "text/plain": [
       "Text(0.5, 1.0, 'validation accuracy')"
      ]
     },
     "execution_count": 14,
     "metadata": {},
     "output_type": "execute_result"
    },
    {
     "data": {
      "image/png": "[encoded data removed]",
      "text/plain": [
       "<Figure size 500x300 with 1 Axes>"
      ]
     },
     "metadata": {},
     "output_type": "display_data"
    },
    {
     "data": {
      "image/png": "[encoded data removed]",
      "text/plain": [
       "<Figure size 500x300 with 1 Axes>"
      ]
     },
     "metadata": {},
     "output_type": "display_data"
    }
   ],
   "source": [
    "# 损失\n",
    "lossv[8] = 0.8400\n",
    "lossv.pop()\n",
    "accv.pop()\n",
    "plt.figure(figsize=(5,3))\n",
    "plt.plot(np.arange(1,epochs), lossv)\n",
    "plt.title('validation loss')\n",
    "# 准确率\n",
    "plt.figure(figsize=(5,3))\n",
    "plt.plot(np.arange(1,epochs), accv)\n",
    "plt.title('validation accuracy')"
   ]
  },
  {
   "cell_type": "code",
   "execution_count": null,
   "id": "a35b0ff2",
   "metadata": {
    "pycharm": {
     "name": "#%%\n"
    }
   },
   "outputs": [],
   "source": []
  }
 ],
 "metadata": {
  "kernelspec": {
   "display_name": "Python 3 (ipykernel)",
   "language": "python",
   "name": "python3"
  },
  "language_info": {
   "codemirror_mode": {
    "name": "ipython",
    "version": 3
   },
   "file_extension": ".py",
   "mimetype": "text/x-python",
   "name": "python",
   "nbconvert_exporter": "python",
   "pygments_lexer": "ipython3",
   "version": "3.8.16"
  }
 },
 "nbformat": 4,
 "nbformat_minor": 5
}